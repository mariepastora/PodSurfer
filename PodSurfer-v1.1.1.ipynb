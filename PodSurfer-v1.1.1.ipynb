{
 "cells": [
  {
   "cell_type": "code",
   "execution_count": 1,
   "metadata": {
    "scrolled": true
   },
   "outputs": [
    {
     "name": "stdout",
     "output_type": "stream",
     "text": [
      "Collecting git+https://github.com/computationaljournalism/alexa_bot.git@v0.3\n",
      "  Cloning https://github.com/computationaljournalism/alexa_bot.git (to v0.3) to /private/var/folders/d_/0t1pz3dx0170672722dc143h0000gn/T/pip-xeb0gvbl-build\n",
      "  Requirement already satisfied (use --upgrade to upgrade): alexa-bot==0.3 from git+https://github.com/computationaljournalism/alexa_bot.git@v0.3 in /Users/mariepatino/anaconda3/lib/python3.6/site-packages\n",
      "Requirement already satisfied: flask_ask in /Users/mariepatino/anaconda3/lib/python3.6/site-packages (from alexa-bot==0.3)\n",
      "Requirement already satisfied: six==1.10.0 in /Users/mariepatino/anaconda3/lib/python3.6/site-packages (from flask_ask->alexa-bot==0.3)\n",
      "Requirement already satisfied: Flask==0.12.1 in /Users/mariepatino/anaconda3/lib/python3.6/site-packages (from flask_ask->alexa-bot==0.3)\n",
      "Requirement already satisfied: pyOpenSSL==17.0.0 in /Users/mariepatino/anaconda3/lib/python3.6/site-packages (from flask_ask->alexa-bot==0.3)\n",
      "Requirement already satisfied: PyYAML==3.12 in /Users/mariepatino/anaconda3/lib/python3.6/site-packages (from flask_ask->alexa-bot==0.3)\n",
      "Requirement already satisfied: aniso8601==1.2.0 in /Users/mariepatino/anaconda3/lib/python3.6/site-packages (from flask_ask->alexa-bot==0.3)\n",
      "Requirement already satisfied: Jinja2>=2.4 in /Users/mariepatino/anaconda3/lib/python3.6/site-packages (from Flask==0.12.1->flask_ask->alexa-bot==0.3)\n",
      "Requirement already satisfied: Werkzeug>=0.7 in /Users/mariepatino/anaconda3/lib/python3.6/site-packages (from Flask==0.12.1->flask_ask->alexa-bot==0.3)\n",
      "Requirement already satisfied: itsdangerous>=0.21 in /Users/mariepatino/anaconda3/lib/python3.6/site-packages (from Flask==0.12.1->flask_ask->alexa-bot==0.3)\n",
      "Requirement already satisfied: click>=2.0 in /Users/mariepatino/anaconda3/lib/python3.6/site-packages (from Flask==0.12.1->flask_ask->alexa-bot==0.3)\n",
      "Requirement already satisfied: cryptography>=1.7 in /Users/mariepatino/anaconda3/lib/python3.6/site-packages (from pyOpenSSL==17.0.0->flask_ask->alexa-bot==0.3)\n",
      "Requirement already satisfied: python-dateutil in /Users/mariepatino/anaconda3/lib/python3.6/site-packages (from aniso8601==1.2.0->flask_ask->alexa-bot==0.3)\n",
      "Requirement already satisfied: MarkupSafe>=0.23 in /Users/mariepatino/anaconda3/lib/python3.6/site-packages (from Jinja2>=2.4->Flask==0.12.1->flask_ask->alexa-bot==0.3)\n",
      "Requirement already satisfied: idna>=2.1 in /Users/mariepatino/anaconda3/lib/python3.6/site-packages (from cryptography>=1.7->pyOpenSSL==17.0.0->flask_ask->alexa-bot==0.3)\n",
      "Requirement already satisfied: asn1crypto>=0.21.0 in /Users/mariepatino/anaconda3/lib/python3.6/site-packages (from cryptography>=1.7->pyOpenSSL==17.0.0->flask_ask->alexa-bot==0.3)\n",
      "Requirement already satisfied: cffi>=1.7 in /Users/mariepatino/anaconda3/lib/python3.6/site-packages (from cryptography>=1.7->pyOpenSSL==17.0.0->flask_ask->alexa-bot==0.3)\n",
      "Requirement already satisfied: pycparser in /Users/mariepatino/anaconda3/lib/python3.6/site-packages (from cffi>=1.7->cryptography>=1.7->pyOpenSSL==17.0.0->flask_ask->alexa-bot==0.3)\n"
     ]
    }
   ],
   "source": [
    "%%sh\n",
    "pip install git+https://github.com/computationaljournalism/alexa_bot.git@v0.3"
   ]
  },
  {
   "cell_type": "code",
   "execution_count": 3,
   "metadata": {},
   "outputs": [
    {
     "name": "stdout",
     "output_type": "stream",
     "text": [
      "Requirement already satisfied: feedparser in /Users/mariepatino/anaconda3/lib/python3.6/site-packages\n"
     ]
    }
   ],
   "source": [
    "%%sh\n",
    "pip install feedparser"
   ]
  },
  {
   "cell_type": "code",
   "execution_count": 9,
   "metadata": {
    "scrolled": true
   },
   "outputs": [],
   "source": [
    "from feedparser import parse\n",
    "import re\n",
    "\n",
    "# the URL of the homepage stories RSS feed\n",
    "npr_feed = 'https://www.npr.org/rss/podcast.php?id=381444908'\n",
    "\n",
    "# fetch the RSS feed and parse it\n",
    "feed = parse(npr_feed)\n",
    "\n",
    "# what type of object are we dealing with?\n",
    "# now, let's print out the stories (titles and urls) in the RSS feed\n",
    "#all_podcasts= [item['links'][1]['href'] for item in feed['entries'] if re.search('play.podtrac.com',str(item['links'][1])\n",
    "\n",
    "#for entry in feed['entries']:\n",
    "#        if 'play.podtrac.com' in (entry['links'][1]['href']):\n",
    "#        print(entry['links'][1]['href'])\n",
    "#        all_podcasts.append([entry['links'][1]['href']])\n",
    "#print(all_podcasts[0])"
   ]
  },
  {
   "cell_type": "code",
   "execution_count": 10,
   "metadata": {
    "collapsed": true
   },
   "outputs": [],
   "source": [
    "from alexa_bot import AlexaBot\n",
    "from flask import Flask, json, render_template\n",
    "from flask_ask import Ask, request, session, question, statement, context, audio, current_stream"
   ]
  },
  {
   "cell_type": "code",
   "execution_count": null,
   "metadata": {},
   "outputs": [
    {
     "name": "stderr",
     "output_type": "stream",
     "text": [
      " * Running on http://127.0.0.1:5000/ (Press CTRL+C to quit)\n",
      "127.0.0.1 - - [26/Feb/2018 16:29:47] \"POST / HTTP/1.1\" 400 -\n",
      "127.0.0.1 - - [26/Feb/2018 16:29:48] \"POST / HTTP/1.1\" 400 -\n",
      "127.0.0.1 - - [26/Feb/2018 16:29:51] \"POST / HTTP/1.1\" 200 -\n",
      "127.0.0.1 - - [26/Feb/2018 16:29:59] \"POST / HTTP/1.1\" 200 -\n"
     ]
    },
    {
     "name": "stdout",
     "output_type": "stream",
     "text": [
      "topic intent called with: years\n",
      "None\n"
     ]
    },
    {
     "name": "stderr",
     "output_type": "stream",
     "text": [
      "127.0.0.1 - - [26/Feb/2018 16:30:02] \"POST / HTTP/1.1\" 400 -\n",
      "127.0.0.1 - - [26/Feb/2018 16:30:02] \"POST / HTTP/1.1\" 400 -\n"
     ]
    }
   ],
   "source": [
    "import re\n",
    "\n",
    "global links \n",
    "globals()['links'] = []\n",
    "global n\n",
    "globals()['n']=0\n",
    "global titles\n",
    "globals()['titles'] = []\n",
    "\n",
    "def topic_intent(topic):\n",
    "    print(\"topic intent called with: {0}\".format(topic))\n",
    "    globals()['titles'] = [item['title'] for item in feed['entries'] if re.search(str(topic),item['title']) or re.search(str(topic),item['content'][1]['value'])]\n",
    "    globals()[\"links\"] = [item['links'][1]['href'] for item in feed['entries'] if re.search(str(topic),item['title']) or re.search(str(topic),item['content'][1]['value'])]\n",
    "    print(session.attributes.links)\n",
    "    return audio('You are listening to' + globals()['titles'][globals()['n']]).play(globals()[\"links\"][globals()['n']], offset=23000)\n",
    "            \n",
    "\n",
    "def next_intent():\n",
    "    globals()['n'] = globals()['n'] + 1\n",
    "    return audio('You are listening to' + globals()['titles'][globals()['n']]).play(globals()[\"links\"][globals()['n']], offset=23000)\n",
    "    \n",
    "def launch_intent():\n",
    "    return(question(\"Welcome to Podsurfer, what would you like to listen to today?\"))\n",
    "\n",
    "config=[\n",
    "    ['launch', launch_intent],\n",
    "    ['AMAZON.NextIntent', next_intent],\n",
    "    ['TopicIntent', topic_intent]\n",
    "\n",
    "]\n",
    "\n",
    "# create out bot object\n",
    "bot = AlexaBot(config)\n",
    "\n",
    "# start up our bot\n",
    "bot.start()"
   ]
  },
  {
   "cell_type": "code",
   "execution_count": null,
   "metadata": {
    "collapsed": true
   },
   "outputs": [],
   "source": []
  }
 ],
 "metadata": {
  "kernelspec": {
   "display_name": "Python 3",
   "language": "python",
   "name": "python3"
  },
  "language_info": {
   "codemirror_mode": {
    "name": "ipython",
    "version": 3
   },
   "file_extension": ".py",
   "mimetype": "text/x-python",
   "name": "python",
   "nbconvert_exporter": "python",
   "pygments_lexer": "ipython3",
   "version": "3.6.3"
  }
 },
 "nbformat": 4,
 "nbformat_minor": 2
}
