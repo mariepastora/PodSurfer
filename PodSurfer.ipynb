{
 "cells": [
  {
   "cell_type": "code",
   "execution_count": 1,
   "metadata": {},
   "outputs": [
    {
     "name": "stdout",
     "output_type": "stream",
     "text": [
      "Collecting git+https://github.com/computationaljournalism/alexa_bot.git@v0.3\n",
      "  Cloning https://github.com/computationaljournalism/alexa_bot.git (to v0.3) to /private/var/folders/d_/0t1pz3dx0170672722dc143h0000gn/T/pip-xeb0gvbl-build\n",
      "  Requirement already satisfied (use --upgrade to upgrade): alexa-bot==0.3 from git+https://github.com/computationaljournalism/alexa_bot.git@v0.3 in /Users/mariepatino/anaconda3/lib/python3.6/site-packages\n",
      "Requirement already satisfied: flask_ask in /Users/mariepatino/anaconda3/lib/python3.6/site-packages (from alexa-bot==0.3)\n",
      "Requirement already satisfied: six==1.10.0 in /Users/mariepatino/anaconda3/lib/python3.6/site-packages (from flask_ask->alexa-bot==0.3)\n",
      "Requirement already satisfied: Flask==0.12.1 in /Users/mariepatino/anaconda3/lib/python3.6/site-packages (from flask_ask->alexa-bot==0.3)\n",
      "Requirement already satisfied: pyOpenSSL==17.0.0 in /Users/mariepatino/anaconda3/lib/python3.6/site-packages (from flask_ask->alexa-bot==0.3)\n",
      "Requirement already satisfied: PyYAML==3.12 in /Users/mariepatino/anaconda3/lib/python3.6/site-packages (from flask_ask->alexa-bot==0.3)\n",
      "Requirement already satisfied: aniso8601==1.2.0 in /Users/mariepatino/anaconda3/lib/python3.6/site-packages (from flask_ask->alexa-bot==0.3)\n",
      "Requirement already satisfied: Jinja2>=2.4 in /Users/mariepatino/anaconda3/lib/python3.6/site-packages (from Flask==0.12.1->flask_ask->alexa-bot==0.3)\n",
      "Requirement already satisfied: Werkzeug>=0.7 in /Users/mariepatino/anaconda3/lib/python3.6/site-packages (from Flask==0.12.1->flask_ask->alexa-bot==0.3)\n",
      "Requirement already satisfied: itsdangerous>=0.21 in /Users/mariepatino/anaconda3/lib/python3.6/site-packages (from Flask==0.12.1->flask_ask->alexa-bot==0.3)\n",
      "Requirement already satisfied: click>=2.0 in /Users/mariepatino/anaconda3/lib/python3.6/site-packages (from Flask==0.12.1->flask_ask->alexa-bot==0.3)\n",
      "Requirement already satisfied: cryptography>=1.7 in /Users/mariepatino/anaconda3/lib/python3.6/site-packages (from pyOpenSSL==17.0.0->flask_ask->alexa-bot==0.3)\n",
      "Requirement already satisfied: python-dateutil in /Users/mariepatino/anaconda3/lib/python3.6/site-packages (from aniso8601==1.2.0->flask_ask->alexa-bot==0.3)\n",
      "Requirement already satisfied: MarkupSafe>=0.23 in /Users/mariepatino/anaconda3/lib/python3.6/site-packages (from Jinja2>=2.4->Flask==0.12.1->flask_ask->alexa-bot==0.3)\n",
      "Requirement already satisfied: idna>=2.1 in /Users/mariepatino/anaconda3/lib/python3.6/site-packages (from cryptography>=1.7->pyOpenSSL==17.0.0->flask_ask->alexa-bot==0.3)\n",
      "Requirement already satisfied: asn1crypto>=0.21.0 in /Users/mariepatino/anaconda3/lib/python3.6/site-packages (from cryptography>=1.7->pyOpenSSL==17.0.0->flask_ask->alexa-bot==0.3)\n",
      "Requirement already satisfied: cffi>=1.7 in /Users/mariepatino/anaconda3/lib/python3.6/site-packages (from cryptography>=1.7->pyOpenSSL==17.0.0->flask_ask->alexa-bot==0.3)\n",
      "Requirement already satisfied: pycparser in /Users/mariepatino/anaconda3/lib/python3.6/site-packages (from cffi>=1.7->cryptography>=1.7->pyOpenSSL==17.0.0->flask_ask->alexa-bot==0.3)\n"
     ]
    }
   ],
   "source": [
    "%%sh\n",
    "pip install git+https://github.com/computationaljournalism/alexa_bot.git@v0.3"
   ]
  },
  {
   "cell_type": "code",
   "execution_count": 6,
   "metadata": {
    "collapsed": true
   },
   "outputs": [],
   "source": [
    "from alexa_bot import AlexaBot\n",
    "from flask import Flask, json, render_template\n",
    "from flask_ask import Ask, request, session, question, statement, context, audio, current_stream"
   ]
  },
  {
   "cell_type": "code",
   "execution_count": 8,
   "metadata": {},
   "outputs": [
    {
     "name": "stderr",
     "output_type": "stream",
     "text": [
      " * Running on http://127.0.0.1:5000/ (Press CTRL+C to quit)\n",
      "127.0.0.1 - - [25/Feb/2018 15:28:12] \"POST / HTTP/1.1\" 200 -\n",
      "127.0.0.1 - - [25/Feb/2018 15:28:20] \"POST / HTTP/1.1\" 200 -\n",
      "127.0.0.1 - - [25/Feb/2018 15:28:23] \"POST / HTTP/1.1\" 400 -\n",
      "127.0.0.1 - - [25/Feb/2018 15:28:23] \"POST / HTTP/1.1\" 400 -\n",
      "127.0.0.1 - - [25/Feb/2018 15:28:27] \"POST / HTTP/1.1\" 400 -\n",
      "127.0.0.1 - - [25/Feb/2018 15:28:27] \"POST / HTTP/1.1\" 400 -\n",
      "[2018-02-25 15:28:28,662] ERROR in app: Exception on / [POST]\n",
      "Traceback (most recent call last):\n",
      "  File \"/Users/mariepatino/anaconda3/lib/python3.6/site-packages/flask/app.py\", line 1982, in wsgi_app\n",
      "    response = self.full_dispatch_request()\n",
      "  File \"/Users/mariepatino/anaconda3/lib/python3.6/site-packages/flask/app.py\", line 1614, in full_dispatch_request\n",
      "    rv = self.handle_user_exception(e)\n",
      "  File \"/Users/mariepatino/anaconda3/lib/python3.6/site-packages/flask/app.py\", line 1517, in handle_user_exception\n",
      "    reraise(exc_type, exc_value, tb)\n",
      "  File \"/Users/mariepatino/anaconda3/lib/python3.6/site-packages/flask/_compat.py\", line 33, in reraise\n",
      "    raise value\n",
      "  File \"/Users/mariepatino/anaconda3/lib/python3.6/site-packages/flask/app.py\", line 1612, in full_dispatch_request\n",
      "    rv = self.dispatch_request()\n",
      "  File \"/Users/mariepatino/anaconda3/lib/python3.6/site-packages/flask/app.py\", line 1598, in dispatch_request\n",
      "    return self.view_functions[rule.endpoint](**req.view_args)\n",
      "  File \"/Users/mariepatino/anaconda3/lib/python3.6/site-packages/flask_ask/core.py\", line 670, in _flask_view_func\n",
      "    result = self._map_intent_to_view_func(self.request.intent)()\n",
      "  File \"/Users/mariepatino/anaconda3/lib/python3.6/site-packages/flask_ask/core.py\", line 689, in _map_intent_to_view_func\n",
      "    raise NotImplementedError('Intent \"{}\" not found and no default intent specified.'.format(intent.name))\n",
      "NotImplementedError: Intent \"AMAZON.PauseIntent\" not found and no default intent specified.\n",
      "127.0.0.1 - - [25/Feb/2018 15:28:28] \"POST / HTTP/1.1\" 500 -\n",
      "127.0.0.1 - - [25/Feb/2018 15:28:28] \"POST / HTTP/1.1\" 200 -\n",
      "127.0.0.1 - - [25/Feb/2018 15:28:32] \"POST / HTTP/1.1\" 400 -\n",
      "127.0.0.1 - - [25/Feb/2018 15:28:32] \"POST / HTTP/1.1\" 400 -\n",
      "127.0.0.1 - - [25/Feb/2018 15:28:34] \"POST / HTTP/1.1\" 400 -\n",
      "127.0.0.1 - - [25/Feb/2018 15:28:35] \"POST / HTTP/1.1\" 400 -\n",
      "127.0.0.1 - - [25/Feb/2018 15:28:39] \"POST / HTTP/1.1\" 400 -\n",
      "127.0.0.1 - - [25/Feb/2018 15:28:39] \"POST / HTTP/1.1\" 400 -\n"
     ]
    }
   ],
   "source": [
    "def launch():\n",
    "    card_title = 'Audio Example'\n",
    "    text = 'Welcome to an audio example. You can ask to begin demo, or try asking me to play the sax.'\n",
    "    prompt = 'You can ask to begin demo, or try asking me to play the sax.'\n",
    "    return question(text).reprompt(prompt).simple_card(card_title, text)\n",
    "\n",
    "def demo():\n",
    "    speech = \"Here's one of my favorites\"\n",
    "    stream_url = 'https://19733.mc.tritondigital.com/NPR_381444908/media-session/e43e27ee-0f28-4b33-baea-b6c992b492fe/anon.npr-podcasts/podcast/381444908/588450111/npr_588450111.mp3?orgId=1&d=2958&p=381444908&story=588450111&t=podcast&e=588450111&ft=pod&f=381444908.mp3'\n",
    "    return audio(speech).play(stream_url, offset=0)\n",
    "\n",
    "def no_intent():\n",
    "    print(\"the no intent was called\")\n",
    "    return(statement(\"Well, I do hate you hahaha\"))\n",
    "\n",
    "def george_michael():\n",
    "    speech = 'yeah you got it!'\n",
    "    stream_url = 'https://ia800203.us.archive.org/27/items/CarelessWhisper_435/CarelessWhisper.ogg'\n",
    "    return audio(speech).play(stream_url, offset=93000)\n",
    "\n",
    "def stop():\n",
    "    return audio('stopping').clear_queue(stop=True)\n",
    "\n",
    "def pause():\n",
    "    return audio('Paused the stream.').stop()\n",
    "\n",
    "def resume():\n",
    "    return audio('Resuming.').resume()\n",
    "\n",
    "config = [\n",
    "    ['launch', launch],\n",
    "    ['PlayPodIntent', demo],\n",
    "    ['PlaySax', george_michael],\n",
    "    ['AMAZON.NoIntent', no_intent],\n",
    "    ['AMAZON.StopIntent', stop],\n",
    "    ['AMAZON.PauseIntent', pause],\n",
    "    ['AMAZON.ResumeIntent', resume],   \n",
    "]\n",
    "\n",
    "# create out bot object\n",
    "bot = AlexaBot(config)\n",
    "\n",
    "# start up our bot\n",
    "bot.start()"
   ]
  },
  {
   "cell_type": "code",
   "execution_count": null,
   "metadata": {
    "collapsed": true
   },
   "outputs": [],
   "source": []
  }
 ],
 "metadata": {
  "kernelspec": {
   "display_name": "Python 3",
   "language": "python",
   "name": "python3"
  },
  "language_info": {
   "codemirror_mode": {
    "name": "ipython",
    "version": 3
   },
   "file_extension": ".py",
   "mimetype": "text/x-python",
   "name": "python",
   "nbconvert_exporter": "python",
   "pygments_lexer": "ipython3",
   "version": "3.6.3"
  }
 },
 "nbformat": 4,
 "nbformat_minor": 2
}
