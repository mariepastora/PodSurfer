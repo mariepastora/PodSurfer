{
 "cells": [
  {
   "cell_type": "code",
   "execution_count": 1,
   "metadata": {
    "scrolled": true
   },
   "outputs": [
    {
     "name": "stdout",
     "output_type": "stream",
     "text": [
      "Collecting git+https://github.com/computationaljournalism/alexa_bot.git@v0.3\n",
      "  Cloning https://github.com/computationaljournalism/alexa_bot.git (to v0.3) to /private/var/folders/d_/0t1pz3dx0170672722dc143h0000gn/T/pip-xeb0gvbl-build\n",
      "  Requirement already satisfied (use --upgrade to upgrade): alexa-bot==0.3 from git+https://github.com/computationaljournalism/alexa_bot.git@v0.3 in /Users/mariepatino/anaconda3/lib/python3.6/site-packages\n",
      "Requirement already satisfied: flask_ask in /Users/mariepatino/anaconda3/lib/python3.6/site-packages (from alexa-bot==0.3)\n",
      "Requirement already satisfied: six==1.10.0 in /Users/mariepatino/anaconda3/lib/python3.6/site-packages (from flask_ask->alexa-bot==0.3)\n",
      "Requirement already satisfied: Flask==0.12.1 in /Users/mariepatino/anaconda3/lib/python3.6/site-packages (from flask_ask->alexa-bot==0.3)\n",
      "Requirement already satisfied: pyOpenSSL==17.0.0 in /Users/mariepatino/anaconda3/lib/python3.6/site-packages (from flask_ask->alexa-bot==0.3)\n",
      "Requirement already satisfied: PyYAML==3.12 in /Users/mariepatino/anaconda3/lib/python3.6/site-packages (from flask_ask->alexa-bot==0.3)\n",
      "Requirement already satisfied: aniso8601==1.2.0 in /Users/mariepatino/anaconda3/lib/python3.6/site-packages (from flask_ask->alexa-bot==0.3)\n",
      "Requirement already satisfied: Jinja2>=2.4 in /Users/mariepatino/anaconda3/lib/python3.6/site-packages (from Flask==0.12.1->flask_ask->alexa-bot==0.3)\n",
      "Requirement already satisfied: Werkzeug>=0.7 in /Users/mariepatino/anaconda3/lib/python3.6/site-packages (from Flask==0.12.1->flask_ask->alexa-bot==0.3)\n",
      "Requirement already satisfied: itsdangerous>=0.21 in /Users/mariepatino/anaconda3/lib/python3.6/site-packages (from Flask==0.12.1->flask_ask->alexa-bot==0.3)\n",
      "Requirement already satisfied: click>=2.0 in /Users/mariepatino/anaconda3/lib/python3.6/site-packages (from Flask==0.12.1->flask_ask->alexa-bot==0.3)\n",
      "Requirement already satisfied: cryptography>=1.7 in /Users/mariepatino/anaconda3/lib/python3.6/site-packages (from pyOpenSSL==17.0.0->flask_ask->alexa-bot==0.3)\n",
      "Requirement already satisfied: python-dateutil in /Users/mariepatino/anaconda3/lib/python3.6/site-packages (from aniso8601==1.2.0->flask_ask->alexa-bot==0.3)\n",
      "Requirement already satisfied: MarkupSafe>=0.23 in /Users/mariepatino/anaconda3/lib/python3.6/site-packages (from Jinja2>=2.4->Flask==0.12.1->flask_ask->alexa-bot==0.3)\n",
      "Requirement already satisfied: idna>=2.1 in /Users/mariepatino/anaconda3/lib/python3.6/site-packages (from cryptography>=1.7->pyOpenSSL==17.0.0->flask_ask->alexa-bot==0.3)\n",
      "Requirement already satisfied: asn1crypto>=0.21.0 in /Users/mariepatino/anaconda3/lib/python3.6/site-packages (from cryptography>=1.7->pyOpenSSL==17.0.0->flask_ask->alexa-bot==0.3)\n",
      "Requirement already satisfied: cffi>=1.7 in /Users/mariepatino/anaconda3/lib/python3.6/site-packages (from cryptography>=1.7->pyOpenSSL==17.0.0->flask_ask->alexa-bot==0.3)\n",
      "Requirement already satisfied: pycparser in /Users/mariepatino/anaconda3/lib/python3.6/site-packages (from cffi>=1.7->cryptography>=1.7->pyOpenSSL==17.0.0->flask_ask->alexa-bot==0.3)\n"
     ]
    }
   ],
   "source": [
    "%%sh\n",
    "pip install git+https://github.com/computationaljournalism/alexa_bot.git@v0.3"
   ]
  },
  {
   "cell_type": "code",
   "execution_count": 3,
   "metadata": {},
   "outputs": [
    {
     "name": "stdout",
     "output_type": "stream",
     "text": [
      "Requirement already satisfied: feedparser in /Users/mariepatino/anaconda3/lib/python3.6/site-packages\n"
     ]
    }
   ],
   "source": [
    "%%sh\n",
    "pip install feedparser"
   ]
  },
  {
   "cell_type": "code",
   "execution_count": 33,
   "metadata": {
    "scrolled": true
   },
   "outputs": [
    {
     "name": "stdout",
     "output_type": "stream",
     "text": [
      "<class 'feedparser.FeedParserDict'>\n",
      "dict_keys(['feed', 'entries', 'bozo', 'headers', 'href', 'status', 'encoding', 'version', 'namespaces'])\n",
      "https://play.podtrac.com/npr-381444908/npr.mc.tritondigital.com/NPR_381444908/media/anon.npr-podcasts/podcast/381444908/588450111/npr_588450111.mp3?orgId=1&d=2958&p=381444908&story=588450111&t=podcast&e=588450111&ft=pod&f=381444908\n",
      "https://play.podtrac.com/npr-381444908/npr.mc.tritondigital.com/NPR_381444908/media/anon.npr-podcasts/podcast/381444908/588372976/npr_588372976.mp3?orgId=1&d=2936&p=381444908&story=588372976&t=podcast&e=588372976&ft=pod&f=381444908\n",
      "https://play.podtrac.com/npr-381444908/npr.mc.tritondigital.com/NPR_381444908/media/anon.npr-podcasts/podcast/381444908/588070227/npr_588070227.mp3?orgId=1&d=2896&p=381444908&story=588070227&t=podcast&e=588070227&ft=pod&f=381444908\n",
      "https://play.podtrac.com/npr-381444908/npr.mc.tritondigital.com/NPR_381444908/media/anon.npr-podcasts/podcast/381444908/587730913/npr_587730913.mp3?orgId=1&d=2866&p=381444908&story=587730913&t=podcast&e=587730913&ft=pod&f=381444908\n",
      "https://play.podtrac.com/npr-381444908/npr.mc.tritondigital.com/NPR_381444908/media/anon.npr-podcasts/podcast/381444908/587370711/npr_587370711.mp3?orgId=1&d=2895&p=381444908&story=587370711&t=podcast&e=587370711&ft=pod&f=381444908\n",
      "https://play.podtrac.com/npr-381444908/npr.mc.tritondigital.com/NPR_381444908/media/anon.npr-podcasts/podcast/381444908/587123322/npr_587123322.mp3?orgId=1&d=2926&p=381444908&story=587123322&t=podcast&e=587123322&ft=pod&f=381444908\n",
      "https://play.podtrac.com/npr-381444908/npr.mc.tritondigital.com/NPR_381444908/media/anon.npr-podcasts/podcast/381444908/586719516/npr_586719516.mp3?orgId=1&d=2908&p=381444908&story=586719516&t=podcast&e=586719516&ft=pod&f=381444908\n",
      "https://play.podtrac.com/npr-381444908/npr.mc.tritondigital.com/NPR_381444908/media/anon.npr-podcasts/podcast/381444908/586605821/npr_586605821.mp3?orgId=1&d=2831&p=381444908&story=586605821&t=podcast&e=586605821&ft=pod&f=381444908\n",
      "https://play.podtrac.com/npr-381444908/npr.mc.tritondigital.com/NPR_381444908/media/anon.npr-podcasts/podcast/381444908/586168381/npr_586168381.mp3?orgId=1&d=2829&p=381444908&story=586168381&t=podcast&e=586168381&ft=pod&f=381444908\n",
      "https://play.podtrac.com/npr-381444908/npr.mc.tritondigital.com/NPR_381444908/media/anon.npr-podcasts/podcast/381444908/585845563/npr_585845563.mp3?orgId=1&d=2838&p=381444908&story=585845563&t=podcast&e=585845563&ft=pod&f=381444908\n",
      "https://play.podtrac.com/npr-381444908/npr.mc.tritondigital.com/NPR_381444908/media/anon.npr-podcasts/podcast/381444908/585532959/npr_585532959.mp3?orgId=1&d=2860&p=381444908&story=585532959&t=podcast&e=585532959&ft=pod&f=381444908\n",
      "https://play.podtrac.com/npr-381444908/npr.mc.tritondigital.com/NPR_381444908/media/anon.npr-podcasts/podcast/381444908/585177261/npr_585177261.mp3?orgId=1&d=2879&p=381444908&story=585177261&t=podcast&e=585177261&ft=pod&f=381444908\n",
      "https://play.podtrac.com/npr-381444908/npr.mc.tritondigital.com/NPR_381444908/media/anon.npr-podcasts/podcast/381444908/584697861/npr_584697861.mp3?orgId=1&d=2979&p=381444908&story=584697861&t=podcast&e=584697861&ft=pod&f=381444908\n",
      "https://play.podtrac.com/npr-381444908/npr.mc.tritondigital.com/NPR_381444908/media/anon.npr-podcasts/podcast/381444908/584632526/npr_584632526.mp3?orgId=1&d=2946&p=381444908&story=584632526&t=podcast&e=584632526&ft=pod&f=381444908\n",
      "https://play.podtrac.com/npr-381444908/npr.mc.tritondigital.com/NPR_381444908/media/anon.npr-podcasts/podcast/381444908/584327552/npr_584327552.mp3?orgId=1&d=2894&p=381444908&story=584327552&t=podcast&e=584327552&ft=pod&f=381444908\n",
      "https://play.podtrac.com/npr-381444908/npr.mc.tritondigital.com/NPR_381444908/media/anon.npr-podcasts/podcast/381444908/584063337/npr_584063337.mp3?orgId=1&d=2821&p=381444908&story=584063337&t=podcast&e=584063337&ft=pod&f=381444908\n",
      "https://play.podtrac.com/npr-381444908/npr.mc.tritondigital.com/NPR_381444908/media/anon.npr-podcasts/podcast/381444908/583773830/npr_583773830.mp3?orgId=1&d=2873&p=381444908&story=583773830&t=podcast&e=583773830&ft=pod&f=381444908\n",
      "https://play.podtrac.com/npr-381444908/npr.mc.tritondigital.com/NPR_381444908/media/anon.npr-podcasts/podcast/381444908/583460242/npr_583460242.mp3?orgId=1&d=2940&p=381444908&story=583460242&t=podcast&e=583460242&ft=pod&f=381444908\n",
      "https://play.podtrac.com/npr-381444908/npr.mc.tritondigital.com/NPR_381444908/media/anon.npr-podcasts/podcast/381444908/582934009/npr_582934009.mp3?orgId=1&d=2861&p=381444908&story=582934009&t=podcast&e=582934009&ft=pod&f=381444908\n",
      "https://play.podtrac.com/npr-381444908/npr.mc.tritondigital.com/NPR_381444908/media/anon.npr-podcasts/podcast/381444908/582847157/npr_582847157.mp3?orgId=1&d=2889&p=381444908&story=582847157&t=podcast&e=582847157&ft=pod&f=381444908\n",
      "https://play.podtrac.com/npr-381444908/npr.mc.tritondigital.com/NPR_381444908/media/anon.npr-podcasts/podcast/381444908/582513233/npr_582513233.mp3?orgId=1&d=2811&p=381444908&story=582513233&t=podcast&e=582513233&ft=pod&f=381444908\n",
      "https://play.podtrac.com/npr-381444908/npr.mc.tritondigital.com/NPR_381444908/media/anon.npr-podcasts/podcast/381444908/582226660/npr_582226660.mp3?orgId=1&d=2803&p=381444908&story=582226660&t=podcast&e=582226660&ft=pod&f=381444908\n",
      "https://play.podtrac.com/npr-381444908/npr.mc.tritondigital.com/NPR_381444908/media/anon.npr-podcasts/podcast/381444908/581927831/npr_581927831.mp3?orgId=1&d=2895&p=381444908&story=581927831&t=podcast&e=581927831&ft=pod&f=381444908\n",
      "https://play.podtrac.com/npr-381444908/npr.mc.tritondigital.com/NPR_381444908/media/anon.npr-podcasts/podcast/381444908/581654992/npr_581654992.mp3?orgId=1&d=2858&p=381444908&story=581654992&t=podcast&e=581654992&ft=pod&f=381444908\n",
      "https://play.podtrac.com/npr-381444908/npr.mc.tritondigital.com/NPR_381444908/media/anon.npr-podcasts/podcast/381444908/581230894/npr_581230894.mp3?orgId=1&d=3040&p=381444908&story=581230894&t=podcast&e=581230894&ft=pod&f=381444908\n",
      "https://play.podtrac.com/npr-381444908/npr.mc.tritondigital.com/NPR_381444908/media/anon.npr-podcasts/podcast/381444908/581144826/npr_581144826.mp3?orgId=1&d=2866&p=381444908&story=581144826&t=podcast&e=581144826&ft=pod&f=381444908\n",
      "https://play.podtrac.com/npr-381444908/npr.mc.tritondigital.com/NPR_381444908/media/anon.npr-podcasts/podcast/381444908/580828439/npr_580828439.mp3?orgId=1&d=2868&p=381444908&story=580828439&t=podcast&e=580828439&ft=pod&f=381444908\n",
      "https://play.podtrac.com/npr-381444908/npr.mc.tritondigital.com/NPR_381444908/media/anon.npr-podcasts/podcast/381444908/580446093/npr_580446093.mp3?orgId=1&d=2889&p=381444908&story=580446093&t=podcast&e=580446093&ft=pod&f=381444908\n",
      "https://play.podtrac.com/npr-381444908/npr.mc.tritondigital.com/NPR_381444908/media/anon.npr-podcasts/podcast/381444908/580075877/npr_580075877.mp3?orgId=1&d=2872&p=381444908&story=580075877&t=podcast&e=580075877&ft=pod&f=381444908\n",
      "https://play.podtrac.com/npr-381444908/npr.mc.tritondigital.com/NPR_381444908/media/anon.npr-podcasts/podcast/381444908/579785308/npr_579785308.mp3?orgId=1&d=2864&p=381444908&story=579785308&t=podcast&e=579785308&ft=pod&f=381444908\n",
      "https://play.podtrac.com/npr-381444908/npr.mc.tritondigital.com/NPR_381444908/media/anon.npr-podcasts/podcast/381444908/579335294/npr_579335294.mp3?orgId=1&d=2968&p=381444908&story=579335294&t=podcast&e=579335294&ft=pod&f=381444908\n",
      "https://play.podtrac.com/npr-381444908/npr.mc.tritondigital.com/NPR_381444908/media/anon.npr-podcasts/podcast/381444908/579238495/npr_579238495.mp3?orgId=1&d=2872&p=381444908&story=579238495&t=podcast&e=579238495&ft=pod&f=381444908\n",
      "https://play.podtrac.com/npr-381444908/npr.mc.tritondigital.com/NPR_381444908/media/anon.npr-podcasts/podcast/381444908/579062683/npr_579062683.mp3?orgId=1&d=2810&p=381444908&story=579062683&t=podcast&e=579062683&ft=pod&f=381444908\n",
      "https://play.podtrac.com/npr-381444908/npr.mc.tritondigital.com/NPR_381444908/media/anon.npr-podcasts/podcast/381444908/578668347/npr_578668347.mp3?orgId=1&d=2858&p=381444908&story=578668347&t=podcast&e=578668347&ft=pod&f=381444908\n",
      "https://play.podtrac.com/npr-381444908/npr.mc.tritondigital.com/NPR_381444908/media/anon.npr-podcasts/podcast/381444908/578420128/npr_578420128.mp3?orgId=1&d=2851&p=381444908&story=578420128&t=podcast&e=578420128&ft=pod&f=381444908\n",
      "https://play.podtrac.com/npr-381444908/npr.mc.tritondigital.com/NPR_381444908/media/anon.npr-podcasts/podcast/381444908/578173250/npr_578173250.mp3?orgId=1&d=2947&p=381444908&story=578173250&t=podcast&e=578173250&ft=pod&f=381444908\n",
      "https://play.podtrac.com/npr-381444908/npr.mc.tritondigital.com/NPR_381444908/media/anon.npr-podcasts/podcast/381444908/577790941/npr_577790941.mp3?orgId=1&d=2984&p=381444908&story=577790941&t=podcast&e=577790941&ft=pod&f=381444908\n",
      "https://play.podtrac.com/npr-381444908/npr.mc.tritondigital.com/NPR_381444908/media/anon.npr-podcasts/podcast/381444908/577714510/npr_577714510.mp3?orgId=1&d=2893&p=381444908&story=577714510&t=podcast&e=577714510&ft=pod&f=381444908\n",
      "https://play.podtrac.com/npr-381444908/npr.mc.tritondigital.com/NPR_381444908/media/anon.npr-podcasts/podcast/381444908/577455110/npr_577455110.mp3?orgId=1&d=2880&p=381444908&story=577455110&t=podcast&e=577455110&ft=pod&f=381444908\n",
      "https://play.podtrac.com/npr-381444908/npr.mc.tritondigital.com/NPR_381444908/media/anon.npr-podcasts/podcast/381444908/577160490/npr_577160490.mp3?orgId=1&d=2942&p=381444908&story=577160490&t=podcast&e=577160490&ft=pod&f=381444908\n",
      "https://play.podtrac.com/npr-381444908/npr.mc.tritondigital.com/NPR_381444908/media/anon.npr-podcasts/podcast/381444908/576866378/npr_576866378.mp3?orgId=1&d=2850&p=381444908&story=576866378&t=podcast&e=576866378&ft=pod&f=381444908\n",
      "https://play.podtrac.com/npr-381444908/npr.mc.tritondigital.com/NPR_381444908/media/anon.npr-podcasts/podcast/381444908/576571132/npr_576571132.mp3?orgId=1&d=2929&p=381444908&story=576571132&t=podcast&e=576571132&ft=pod&f=381444908\n",
      "https://play.podtrac.com/npr-381444908/npr.mc.tritondigital.com/NPR_381444908/media/anon.npr-podcasts/podcast/381444908/576153639/npr_576153639.mp3?orgId=1&d=2916&p=381444908&story=576153639&t=podcast&e=576153639&ft=pod&f=381444908\n",
      "https://play.podtrac.com/npr-381444908/npr.mc.tritondigital.com/NPR_381444908/media/anon.npr-podcasts/podcast/381444908/576084379/npr_576084379.mp3?orgId=1&d=2866&p=381444908&story=576084379&t=podcast&e=576084379&ft=pod&f=381444908\n",
      "https://play.podtrac.com/npr-381444908/npr.mc.tritondigital.com/NPR_381444908/media/anon.npr-podcasts/podcast/381444908/575768769/npr_575768769.mp3?orgId=1&d=2833&p=381444908&story=575768769&t=podcast&e=575768769&ft=pod&f=381444908\n",
      "https://play.podtrac.com/npr-381444908/npr.mc.tritondigital.com/NPR_381444908/media/anon.npr-podcasts/podcast/381444908/575435077/npr_575435077.mp3?orgId=1&d=2826&p=381444908&story=575435077&t=podcast&e=575435077&ft=pod&f=381444908\n",
      "https://play.podtrac.com/npr-381444908/npr.mc.tritondigital.com/NPR_381444908/media/anon.npr-podcasts/podcast/381444908/575169802/npr_575169802.mp3?orgId=1&d=2768&p=381444908&story=575169802&t=podcast&e=575169802&ft=pod&f=381444908\n",
      "https://play.podtrac.com/npr-381444908/npr.mc.tritondigital.com/NPR_381444908/media/anon.npr-podcasts/podcast/381444908/574986662/npr_574986662.mp3?orgId=1&d=2857&p=381444908&story=574986662&t=podcast&e=574986662&ft=pod&f=381444908\n",
      "https://play.podtrac.com/npr-381444908/npr.mc.tritondigital.com/NPR_381444908/media/anon.npr-podcasts/podcast/381444908/574722336/npr_574722336.mp3?orgId=1&d=2940&p=381444908&story=574722336&t=podcast&e=574722336&ft=pod&f=381444908\n",
      "https://play.podtrac.com/npr-381444908/npr.mc.tritondigital.com/NPR_381444908/media/anon.npr-podcasts/podcast/381444908/574683126/npr_574683126.mp3?orgId=1&d=2843&p=381444908&story=574683126&t=podcast&e=574683126&ft=pod&f=381444908\n",
      "['https://play.podtrac.com/npr-381444908/npr.mc.tritondigital.com/NPR_381444908/media/anon.npr-podcasts/podcast/381444908/588450111/npr_588450111.mp3?orgId=1&d=2958&p=381444908&story=588450111&t=podcast&e=588450111&ft=pod&f=381444908', 'https://play.podtrac.com/npr-381444908/npr.mc.tritondigital.com/NPR_381444908/media/anon.npr-podcasts/podcast/381444908/588372976/npr_588372976.mp3?orgId=1&d=2936&p=381444908&story=588372976&t=podcast&e=588372976&ft=pod&f=381444908', 'https://play.podtrac.com/npr-381444908/npr.mc.tritondigital.com/NPR_381444908/media/anon.npr-podcasts/podcast/381444908/588070227/npr_588070227.mp3?orgId=1&d=2896&p=381444908&story=588070227&t=podcast&e=588070227&ft=pod&f=381444908', 'https://play.podtrac.com/npr-381444908/npr.mc.tritondigital.com/NPR_381444908/media/anon.npr-podcasts/podcast/381444908/587730913/npr_587730913.mp3?orgId=1&d=2866&p=381444908&story=587730913&t=podcast&e=587730913&ft=pod&f=381444908', 'https://play.podtrac.com/npr-381444908/npr.mc.tritondigital.com/NPR_381444908/media/anon.npr-podcasts/podcast/381444908/587370711/npr_587370711.mp3?orgId=1&d=2895&p=381444908&story=587370711&t=podcast&e=587370711&ft=pod&f=381444908', 'https://play.podtrac.com/npr-381444908/npr.mc.tritondigital.com/NPR_381444908/media/anon.npr-podcasts/podcast/381444908/587123322/npr_587123322.mp3?orgId=1&d=2926&p=381444908&story=587123322&t=podcast&e=587123322&ft=pod&f=381444908', 'https://play.podtrac.com/npr-381444908/npr.mc.tritondigital.com/NPR_381444908/media/anon.npr-podcasts/podcast/381444908/586719516/npr_586719516.mp3?orgId=1&d=2908&p=381444908&story=586719516&t=podcast&e=586719516&ft=pod&f=381444908', 'https://play.podtrac.com/npr-381444908/npr.mc.tritondigital.com/NPR_381444908/media/anon.npr-podcasts/podcast/381444908/586605821/npr_586605821.mp3?orgId=1&d=2831&p=381444908&story=586605821&t=podcast&e=586605821&ft=pod&f=381444908', 'https://play.podtrac.com/npr-381444908/npr.mc.tritondigital.com/NPR_381444908/media/anon.npr-podcasts/podcast/381444908/586168381/npr_586168381.mp3?orgId=1&d=2829&p=381444908&story=586168381&t=podcast&e=586168381&ft=pod&f=381444908', 'https://play.podtrac.com/npr-381444908/npr.mc.tritondigital.com/NPR_381444908/media/anon.npr-podcasts/podcast/381444908/585845563/npr_585845563.mp3?orgId=1&d=2838&p=381444908&story=585845563&t=podcast&e=585845563&ft=pod&f=381444908', 'https://play.podtrac.com/npr-381444908/npr.mc.tritondigital.com/NPR_381444908/media/anon.npr-podcasts/podcast/381444908/585532959/npr_585532959.mp3?orgId=1&d=2860&p=381444908&story=585532959&t=podcast&e=585532959&ft=pod&f=381444908', 'https://play.podtrac.com/npr-381444908/npr.mc.tritondigital.com/NPR_381444908/media/anon.npr-podcasts/podcast/381444908/585177261/npr_585177261.mp3?orgId=1&d=2879&p=381444908&story=585177261&t=podcast&e=585177261&ft=pod&f=381444908', 'https://play.podtrac.com/npr-381444908/npr.mc.tritondigital.com/NPR_381444908/media/anon.npr-podcasts/podcast/381444908/584697861/npr_584697861.mp3?orgId=1&d=2979&p=381444908&story=584697861&t=podcast&e=584697861&ft=pod&f=381444908', 'https://play.podtrac.com/npr-381444908/npr.mc.tritondigital.com/NPR_381444908/media/anon.npr-podcasts/podcast/381444908/584632526/npr_584632526.mp3?orgId=1&d=2946&p=381444908&story=584632526&t=podcast&e=584632526&ft=pod&f=381444908', 'https://play.podtrac.com/npr-381444908/npr.mc.tritondigital.com/NPR_381444908/media/anon.npr-podcasts/podcast/381444908/584327552/npr_584327552.mp3?orgId=1&d=2894&p=381444908&story=584327552&t=podcast&e=584327552&ft=pod&f=381444908', 'https://play.podtrac.com/npr-381444908/npr.mc.tritondigital.com/NPR_381444908/media/anon.npr-podcasts/podcast/381444908/584063337/npr_584063337.mp3?orgId=1&d=2821&p=381444908&story=584063337&t=podcast&e=584063337&ft=pod&f=381444908', 'https://play.podtrac.com/npr-381444908/npr.mc.tritondigital.com/NPR_381444908/media/anon.npr-podcasts/podcast/381444908/583773830/npr_583773830.mp3?orgId=1&d=2873&p=381444908&story=583773830&t=podcast&e=583773830&ft=pod&f=381444908', 'https://play.podtrac.com/npr-381444908/npr.mc.tritondigital.com/NPR_381444908/media/anon.npr-podcasts/podcast/381444908/583460242/npr_583460242.mp3?orgId=1&d=2940&p=381444908&story=583460242&t=podcast&e=583460242&ft=pod&f=381444908', 'https://play.podtrac.com/npr-381444908/npr.mc.tritondigital.com/NPR_381444908/media/anon.npr-podcasts/podcast/381444908/582934009/npr_582934009.mp3?orgId=1&d=2861&p=381444908&story=582934009&t=podcast&e=582934009&ft=pod&f=381444908', 'https://play.podtrac.com/npr-381444908/npr.mc.tritondigital.com/NPR_381444908/media/anon.npr-podcasts/podcast/381444908/582847157/npr_582847157.mp3?orgId=1&d=2889&p=381444908&story=582847157&t=podcast&e=582847157&ft=pod&f=381444908', 'https://play.podtrac.com/npr-381444908/npr.mc.tritondigital.com/NPR_381444908/media/anon.npr-podcasts/podcast/381444908/582513233/npr_582513233.mp3?orgId=1&d=2811&p=381444908&story=582513233&t=podcast&e=582513233&ft=pod&f=381444908', 'https://play.podtrac.com/npr-381444908/npr.mc.tritondigital.com/NPR_381444908/media/anon.npr-podcasts/podcast/381444908/582226660/npr_582226660.mp3?orgId=1&d=2803&p=381444908&story=582226660&t=podcast&e=582226660&ft=pod&f=381444908', 'https://play.podtrac.com/npr-381444908/npr.mc.tritondigital.com/NPR_381444908/media/anon.npr-podcasts/podcast/381444908/581927831/npr_581927831.mp3?orgId=1&d=2895&p=381444908&story=581927831&t=podcast&e=581927831&ft=pod&f=381444908', 'https://play.podtrac.com/npr-381444908/npr.mc.tritondigital.com/NPR_381444908/media/anon.npr-podcasts/podcast/381444908/581654992/npr_581654992.mp3?orgId=1&d=2858&p=381444908&story=581654992&t=podcast&e=581654992&ft=pod&f=381444908', 'https://play.podtrac.com/npr-381444908/npr.mc.tritondigital.com/NPR_381444908/media/anon.npr-podcasts/podcast/381444908/581230894/npr_581230894.mp3?orgId=1&d=3040&p=381444908&story=581230894&t=podcast&e=581230894&ft=pod&f=381444908', 'https://play.podtrac.com/npr-381444908/npr.mc.tritondigital.com/NPR_381444908/media/anon.npr-podcasts/podcast/381444908/581144826/npr_581144826.mp3?orgId=1&d=2866&p=381444908&story=581144826&t=podcast&e=581144826&ft=pod&f=381444908', 'https://play.podtrac.com/npr-381444908/npr.mc.tritondigital.com/NPR_381444908/media/anon.npr-podcasts/podcast/381444908/580828439/npr_580828439.mp3?orgId=1&d=2868&p=381444908&story=580828439&t=podcast&e=580828439&ft=pod&f=381444908', 'https://play.podtrac.com/npr-381444908/npr.mc.tritondigital.com/NPR_381444908/media/anon.npr-podcasts/podcast/381444908/580446093/npr_580446093.mp3?orgId=1&d=2889&p=381444908&story=580446093&t=podcast&e=580446093&ft=pod&f=381444908', 'https://play.podtrac.com/npr-381444908/npr.mc.tritondigital.com/NPR_381444908/media/anon.npr-podcasts/podcast/381444908/580075877/npr_580075877.mp3?orgId=1&d=2872&p=381444908&story=580075877&t=podcast&e=580075877&ft=pod&f=381444908', 'https://play.podtrac.com/npr-381444908/npr.mc.tritondigital.com/NPR_381444908/media/anon.npr-podcasts/podcast/381444908/579785308/npr_579785308.mp3?orgId=1&d=2864&p=381444908&story=579785308&t=podcast&e=579785308&ft=pod&f=381444908', 'https://play.podtrac.com/npr-381444908/npr.mc.tritondigital.com/NPR_381444908/media/anon.npr-podcasts/podcast/381444908/579335294/npr_579335294.mp3?orgId=1&d=2968&p=381444908&story=579335294&t=podcast&e=579335294&ft=pod&f=381444908', 'https://play.podtrac.com/npr-381444908/npr.mc.tritondigital.com/NPR_381444908/media/anon.npr-podcasts/podcast/381444908/579238495/npr_579238495.mp3?orgId=1&d=2872&p=381444908&story=579238495&t=podcast&e=579238495&ft=pod&f=381444908', 'https://play.podtrac.com/npr-381444908/npr.mc.tritondigital.com/NPR_381444908/media/anon.npr-podcasts/podcast/381444908/579062683/npr_579062683.mp3?orgId=1&d=2810&p=381444908&story=579062683&t=podcast&e=579062683&ft=pod&f=381444908', 'https://play.podtrac.com/npr-381444908/npr.mc.tritondigital.com/NPR_381444908/media/anon.npr-podcasts/podcast/381444908/578668347/npr_578668347.mp3?orgId=1&d=2858&p=381444908&story=578668347&t=podcast&e=578668347&ft=pod&f=381444908', 'https://play.podtrac.com/npr-381444908/npr.mc.tritondigital.com/NPR_381444908/media/anon.npr-podcasts/podcast/381444908/578420128/npr_578420128.mp3?orgId=1&d=2851&p=381444908&story=578420128&t=podcast&e=578420128&ft=pod&f=381444908', 'https://play.podtrac.com/npr-381444908/npr.mc.tritondigital.com/NPR_381444908/media/anon.npr-podcasts/podcast/381444908/578173250/npr_578173250.mp3?orgId=1&d=2947&p=381444908&story=578173250&t=podcast&e=578173250&ft=pod&f=381444908', 'https://play.podtrac.com/npr-381444908/npr.mc.tritondigital.com/NPR_381444908/media/anon.npr-podcasts/podcast/381444908/577790941/npr_577790941.mp3?orgId=1&d=2984&p=381444908&story=577790941&t=podcast&e=577790941&ft=pod&f=381444908', 'https://play.podtrac.com/npr-381444908/npr.mc.tritondigital.com/NPR_381444908/media/anon.npr-podcasts/podcast/381444908/577714510/npr_577714510.mp3?orgId=1&d=2893&p=381444908&story=577714510&t=podcast&e=577714510&ft=pod&f=381444908', 'https://play.podtrac.com/npr-381444908/npr.mc.tritondigital.com/NPR_381444908/media/anon.npr-podcasts/podcast/381444908/577455110/npr_577455110.mp3?orgId=1&d=2880&p=381444908&story=577455110&t=podcast&e=577455110&ft=pod&f=381444908', 'https://play.podtrac.com/npr-381444908/npr.mc.tritondigital.com/NPR_381444908/media/anon.npr-podcasts/podcast/381444908/577160490/npr_577160490.mp3?orgId=1&d=2942&p=381444908&story=577160490&t=podcast&e=577160490&ft=pod&f=381444908', 'https://play.podtrac.com/npr-381444908/npr.mc.tritondigital.com/NPR_381444908/media/anon.npr-podcasts/podcast/381444908/576866378/npr_576866378.mp3?orgId=1&d=2850&p=381444908&story=576866378&t=podcast&e=576866378&ft=pod&f=381444908', 'https://play.podtrac.com/npr-381444908/npr.mc.tritondigital.com/NPR_381444908/media/anon.npr-podcasts/podcast/381444908/576571132/npr_576571132.mp3?orgId=1&d=2929&p=381444908&story=576571132&t=podcast&e=576571132&ft=pod&f=381444908', 'https://play.podtrac.com/npr-381444908/npr.mc.tritondigital.com/NPR_381444908/media/anon.npr-podcasts/podcast/381444908/576153639/npr_576153639.mp3?orgId=1&d=2916&p=381444908&story=576153639&t=podcast&e=576153639&ft=pod&f=381444908', 'https://play.podtrac.com/npr-381444908/npr.mc.tritondigital.com/NPR_381444908/media/anon.npr-podcasts/podcast/381444908/576084379/npr_576084379.mp3?orgId=1&d=2866&p=381444908&story=576084379&t=podcast&e=576084379&ft=pod&f=381444908', 'https://play.podtrac.com/npr-381444908/npr.mc.tritondigital.com/NPR_381444908/media/anon.npr-podcasts/podcast/381444908/575768769/npr_575768769.mp3?orgId=1&d=2833&p=381444908&story=575768769&t=podcast&e=575768769&ft=pod&f=381444908', 'https://play.podtrac.com/npr-381444908/npr.mc.tritondigital.com/NPR_381444908/media/anon.npr-podcasts/podcast/381444908/575435077/npr_575435077.mp3?orgId=1&d=2826&p=381444908&story=575435077&t=podcast&e=575435077&ft=pod&f=381444908', 'https://play.podtrac.com/npr-381444908/npr.mc.tritondigital.com/NPR_381444908/media/anon.npr-podcasts/podcast/381444908/575169802/npr_575169802.mp3?orgId=1&d=2768&p=381444908&story=575169802&t=podcast&e=575169802&ft=pod&f=381444908', 'https://play.podtrac.com/npr-381444908/npr.mc.tritondigital.com/NPR_381444908/media/anon.npr-podcasts/podcast/381444908/574986662/npr_574986662.mp3?orgId=1&d=2857&p=381444908&story=574986662&t=podcast&e=574986662&ft=pod&f=381444908', 'https://play.podtrac.com/npr-381444908/npr.mc.tritondigital.com/NPR_381444908/media/anon.npr-podcasts/podcast/381444908/574722336/npr_574722336.mp3?orgId=1&d=2940&p=381444908&story=574722336&t=podcast&e=574722336&ft=pod&f=381444908', 'https://play.podtrac.com/npr-381444908/npr.mc.tritondigital.com/NPR_381444908/media/anon.npr-podcasts/podcast/381444908/574683126/npr_574683126.mp3?orgId=1&d=2843&p=381444908&story=574683126&t=podcast&e=574683126&ft=pod&f=381444908']\n"
     ]
    }
   ],
   "source": [
    "# let's fetch the NPR Homepage RSS Feed\n",
    "from feedparser import parse\n",
    "import re\n",
    "\n",
    "# the URL of the homepage stories RSS feed\n",
    "npr_feed = 'https://www.npr.org/rss/podcast.php?id=381444908'\n",
    "\n",
    "# fetch the RSS feed and parse it\n",
    "feed = parse(npr_feed)\n",
    "\n",
    "# what type of object are we dealing with?\n",
    "print(type(feed))\n",
    "print(feed.keys())\n",
    "feed['entries']\n",
    "# now, let's print out the stories (titles and urls) in the RSS feed\n",
    "all_podcasts=[]\n",
    "for entry in feed['entries']:\n",
    "    links=(entry['links'])\n",
    "    for item in links:\n",
    "        if 'play.podtrac.com' in (item['href']):\n",
    "            print(item['href'])\n",
    "            all_podcasts.append(item['href'])\n",
    "print(all_podcasts)\n"
   ]
  },
  {
   "cell_type": "code",
   "execution_count": 1,
   "metadata": {
    "collapsed": true
   },
   "outputs": [],
   "source": [
    "from alexa_bot import AlexaBot\n",
    "from flask import Flask, json, render_template\n",
    "from flask_ask import Ask, request, session, question, statement, context, audio, current_stream"
   ]
  },
  {
   "cell_type": "code",
   "execution_count": 2,
   "metadata": {},
   "outputs": [
    {
     "name": "stderr",
     "output_type": "stream",
     "text": [
      " * Running on http://127.0.0.1:5000/ (Press CTRL+C to quit)\n",
      "127.0.0.1 - - [25/Feb/2018 15:43:31] \"POST / HTTP/1.1\" 200 -\n",
      "127.0.0.1 - - [25/Feb/2018 15:43:43] \"POST / HTTP/1.1\" 200 -\n",
      "127.0.0.1 - - [25/Feb/2018 15:43:45] \"POST / HTTP/1.1\" 400 -\n",
      "127.0.0.1 - - [25/Feb/2018 15:43:45] \"POST / HTTP/1.1\" 400 -\n",
      "127.0.0.1 - - [25/Feb/2018 15:43:48] \"POST / HTTP/1.1\" 400 -\n",
      "127.0.0.1 - - [25/Feb/2018 15:43:48] \"POST / HTTP/1.1\" 400 -\n",
      "127.0.0.1 - - [25/Feb/2018 15:43:49] \"POST / HTTP/1.1\" 200 -\n",
      "127.0.0.1 - - [25/Feb/2018 15:43:56] \"POST / HTTP/1.1\" 200 -\n",
      "127.0.0.1 - - [25/Feb/2018 15:43:57] \"POST / HTTP/1.1\" 400 -\n",
      "127.0.0.1 - - [25/Feb/2018 15:43:58] \"POST / HTTP/1.1\" 400 -\n",
      "127.0.0.1 - - [25/Feb/2018 15:44:01] \"POST / HTTP/1.1\" 400 -\n",
      "127.0.0.1 - - [25/Feb/2018 15:44:01] \"POST / HTTP/1.1\" 400 -\n",
      "127.0.0.1 - - [25/Feb/2018 15:44:03] \"POST / HTTP/1.1\" 200 -\n",
      "127.0.0.1 - - [25/Feb/2018 15:45:41] \"POST / HTTP/1.1\" 200 -\n",
      "127.0.0.1 - - [25/Feb/2018 15:45:43] \"POST / HTTP/1.1\" 400 -\n",
      "127.0.0.1 - - [25/Feb/2018 15:45:44] \"POST / HTTP/1.1\" 400 -\n",
      "127.0.0.1 - - [25/Feb/2018 15:45:52] \"POST / HTTP/1.1\" 400 -\n",
      "127.0.0.1 - - [25/Feb/2018 15:45:52] \"POST / HTTP/1.1\" 400 -\n",
      "127.0.0.1 - - [25/Feb/2018 15:45:56] \"POST / HTTP/1.1\" 400 -\n",
      "127.0.0.1 - - [25/Feb/2018 15:45:56] \"POST / HTTP/1.1\" 400 -\n",
      "127.0.0.1 - - [25/Feb/2018 15:46:04] \"POST / HTTP/1.1\" 400 -\n",
      "127.0.0.1 - - [25/Feb/2018 15:46:05] \"POST / HTTP/1.1\" 400 -\n",
      "127.0.0.1 - - [25/Feb/2018 15:46:10] \"POST / HTTP/1.1\" 400 -\n",
      "127.0.0.1 - - [25/Feb/2018 15:46:10] \"POST / HTTP/1.1\" 400 -\n",
      "127.0.0.1 - - [25/Feb/2018 15:46:16] \"POST / HTTP/1.1\" 400 -\n",
      "127.0.0.1 - - [25/Feb/2018 15:46:16] \"POST / HTTP/1.1\" 400 -\n",
      "127.0.0.1 - - [25/Feb/2018 15:46:17] \"POST / HTTP/1.1\" 200 -\n",
      "127.0.0.1 - - [25/Feb/2018 16:08:10] \"POST / HTTP/1.1\" 200 -\n",
      "127.0.0.1 - - [25/Feb/2018 16:08:21] \"POST / HTTP/1.1\" 200 -\n",
      "127.0.0.1 - - [25/Feb/2018 16:08:23] \"POST / HTTP/1.1\" 400 -\n",
      "127.0.0.1 - - [25/Feb/2018 16:08:23] \"POST / HTTP/1.1\" 400 -\n",
      "127.0.0.1 - - [25/Feb/2018 16:08:30] \"POST / HTTP/1.1\" 400 -\n",
      "127.0.0.1 - - [25/Feb/2018 16:08:30] \"POST / HTTP/1.1\" 400 -\n",
      "127.0.0.1 - - [25/Feb/2018 16:08:31] \"POST / HTTP/1.1\" 200 -\n",
      "127.0.0.1 - - [25/Feb/2018 16:08:36] \"POST / HTTP/1.1\" 200 -\n",
      "127.0.0.1 - - [25/Feb/2018 16:08:38] \"POST / HTTP/1.1\" 400 -\n",
      "127.0.0.1 - - [25/Feb/2018 16:08:38] \"POST / HTTP/1.1\" 400 -\n",
      "127.0.0.1 - - [25/Feb/2018 16:08:41] \"POST / HTTP/1.1\" 400 -\n",
      "127.0.0.1 - - [25/Feb/2018 16:08:41] \"POST / HTTP/1.1\" 400 -\n",
      "127.0.0.1 - - [25/Feb/2018 16:08:43] \"POST / HTTP/1.1\" 200 -\n"
     ]
    }
   ],
   "source": [
    "def launch():\n",
    "    card_title = 'Audio Example'\n",
    "    text = 'Welcome to an audio example. You can ask to begin demo, or try asking me to play the sax.'\n",
    "    prompt = 'You can ask to begin demo, or try asking me to play the sax.'\n",
    "    return question(text).reprompt(prompt).simple_card(card_title, text)\n",
    "\n",
    "def demo():\n",
    "    speech = \"Here's one of my favorites\"\n",
    "    stream_url = 'https://19733.mc.tritondigital.com/NPR_381444908/media-session/e43e27ee-0f28-4b33-baea-b6c992b492fe/anon.npr-podcasts/podcast/381444908/588450111/npr_588450111.mp3?orgId=1&d=2958&p=381444908&story=588450111&t=podcast&e=588450111&ft=pod&f=381444908.mp3'\n",
    "    return audio(speech).play(stream_url, offset=0)\n",
    "\n",
    "def no_intent():\n",
    "    print(\"the no intent was called\")\n",
    "    return(statement(\"Well, I do hate you hahaha\"))\n",
    "\n",
    "def george_michael():\n",
    "    speech = 'yeah you got it!'\n",
    "    stream_url = 'https://ia800203.us.archive.org/27/items/CarelessWhisper_435/CarelessWhisper.ogg'\n",
    "    return audio(speech).play(stream_url, offset=93000)\n",
    "\n",
    "def pause():\n",
    "    return audio('Paused the stream.').stop()\n",
    "\n",
    "def resume():\n",
    "    return audio('Resuming.').resume()\n",
    "\n",
    "config = [\n",
    "    ['launch', launch],\n",
    "    ['PlayPodIntent', demo],\n",
    "    ['PlaySax', george_michael],\n",
    "    ['AMAZON.NoIntent', no_intent],\n",
    "    ['AMAZON.PauseIntent', pause],\n",
    "    ['AMAZON.ResumeIntent', resume],   \n",
    "]\n",
    "\n",
    "# create out bot object\n",
    "bot = AlexaBot(config)\n",
    "\n",
    "# start up our bot\n",
    "bot.start()"
   ]
  },
  {
   "cell_type": "code",
   "execution_count": null,
   "metadata": {
    "collapsed": true
   },
   "outputs": [],
   "source": []
  }
 ],
 "metadata": {
  "kernelspec": {
   "display_name": "Python 3",
   "language": "python",
   "name": "python3"
  },
  "language_info": {
   "codemirror_mode": {
    "name": "ipython",
    "version": 3
   },
   "file_extension": ".py",
   "mimetype": "text/x-python",
   "name": "python",
   "nbconvert_exporter": "python",
   "pygments_lexer": "ipython3",
   "version": "3.6.3"
  }
 },
 "nbformat": 4,
 "nbformat_minor": 2
}
